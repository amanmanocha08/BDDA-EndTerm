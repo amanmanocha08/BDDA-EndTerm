{
  "nbformat": 4,
  "nbformat_minor": 0,
  "metadata": {
    "kernelspec": {
      "display_name": "Python 3",
      "language": "python",
      "name": "python3"
    },
    "language_info": {
      "codemirror_mode": {
        "name": "ipython",
        "version": 3
      },
      "file_extension": ".py",
      "mimetype": "text/x-python",
      "name": "python",
      "nbconvert_exporter": "python",
      "pygments_lexer": "ipython3",
      "version": "3.7.3"
    },
    "colab": {
      "name": "AmanManocha_Predicting Medical insurance cost.ipynb",
      "provenance": [],
      "collapsed_sections": []
    }
  },
  "cells": [
    {
      "cell_type": "markdown",
      "metadata": {
        "id": "ZOlLkAXJAhea"
      },
      "source": [
        "#BDDA End Term Project\n",
        "<BR> Answer 2\n",
        "<BR> By:Aman Manocha\n",
        "<BR> Roll No: 015001"
      ]
    },
    {
      "cell_type": "code",
      "metadata": {
        "id": "IPXPmxJ5_4dp"
      },
      "source": [
        "# Create a Spark session\n",
        "from pyspark.sql import SparkSession\n",
        "\n",
        "from pyspark.ml.feature import StringIndexer\n",
        "from pyspark.sql.functions import stddev\n",
        "from pyspark.sql.functions import format_number\n",
        "from pyspark.ml.feature import VectorAssembler\n",
        "from pyspark.ml.regression import LinearRegression\n"
      ],
      "execution_count": null,
      "outputs": []
    },
    {
      "cell_type": "code",
      "metadata": {
        "id": "geQhuWIx_vNg"
      },
      "source": [
        "spark=SparkSession.builder.appName('Problem 2').getOrCreate()"
      ],
      "execution_count": null,
      "outputs": []
    },
    {
      "cell_type": "code",
      "metadata": {
        "id": "Hz75wvxd_vNj"
      },
      "source": [
        "# Load dataset\n",
        "df=spark.read.csv('insurance.csv', header=True, inferSchema=True)"
      ],
      "execution_count": null,
      "outputs": []
    },
    {
      "cell_type": "code",
      "metadata": {
        "id": "SEzHxNok_vNl",
        "outputId": "77a9e627-2635-4a62-bb5b-87f2501df09d"
      },
      "source": [
        "df.show()"
      ],
      "execution_count": null,
      "outputs": [
        {
          "name": "stdout",
          "output_type": "stream",
          "text": [
            "+---+------+------+--------+------+---------+-----------+\n",
            "|age|   sex|   bmi|children|smoker|   region|    charges|\n",
            "+---+------+------+--------+------+---------+-----------+\n",
            "| 19|female|  27.9|       0|   yes|southwest|  16884.924|\n",
            "| 18|  male| 33.77|       1|    no|southeast|  1725.5523|\n",
            "| 28|  male|  33.0|       3|    no|southeast|   4449.462|\n",
            "| 33|  male|22.705|       0|    no|northwest|21984.47061|\n",
            "| 32|  male| 28.88|       0|    no|northwest|  3866.8552|\n",
            "| 31|female| 25.74|       0|    no|southeast|  3756.6216|\n",
            "| 46|female| 33.44|       1|    no|southeast|  8240.5896|\n",
            "| 37|female| 27.74|       3|    no|northwest|  7281.5056|\n",
            "| 37|  male| 29.83|       2|    no|northeast|  6406.4107|\n",
            "| 60|female| 25.84|       0|    no|northwest|28923.13692|\n",
            "| 25|  male| 26.22|       0|    no|northeast|  2721.3208|\n",
            "| 62|female| 26.29|       0|   yes|southeast| 27808.7251|\n",
            "| 23|  male|  34.4|       0|    no|southwest|   1826.843|\n",
            "| 56|female| 39.82|       0|    no|southeast| 11090.7178|\n",
            "| 27|  male| 42.13|       0|   yes|southeast| 39611.7577|\n",
            "| 19|  male|  24.6|       1|    no|southwest|   1837.237|\n",
            "| 52|female| 30.78|       1|    no|northeast| 10797.3362|\n",
            "| 23|  male|23.845|       0|    no|northeast| 2395.17155|\n",
            "| 56|  male|  40.3|       0|    no|southwest|  10602.385|\n",
            "| 30|  male|  35.3|       0|   yes|southwest|  36837.467|\n",
            "+---+------+------+--------+------+---------+-----------+\n",
            "only showing top 20 rows\n",
            "\n"
          ]
        }
      ]
    },
    {
      "cell_type": "code",
      "metadata": {
        "id": "sVbvb_Hj_vNo",
        "outputId": "034232a7-0c4a-43c0-bf67-7545f9f47619"
      },
      "source": [
        "# Columns List\n",
        "df.columns"
      ],
      "execution_count": null,
      "outputs": [
        {
          "data": {
            "text/plain": [
              "['age', 'sex', 'bmi', 'children', 'smoker', 'region', 'charges']"
            ]
          },
          "execution_count": 131,
          "metadata": {},
          "output_type": "execute_result"
        }
      ]
    },
    {
      "cell_type": "code",
      "metadata": {
        "id": "U8fnAU4l_vNq",
        "outputId": "1681fa70-c7ad-4e69-92bb-9657aaa984cf"
      },
      "source": [
        "# Columns info\n",
        "df.printSchema()"
      ],
      "execution_count": null,
      "outputs": [
        {
          "name": "stdout",
          "output_type": "stream",
          "text": [
            "root\n",
            " |-- age: integer (nullable = true)\n",
            " |-- sex: string (nullable = true)\n",
            " |-- bmi: double (nullable = true)\n",
            " |-- children: integer (nullable = true)\n",
            " |-- smoker: string (nullable = true)\n",
            " |-- region: string (nullable = true)\n",
            " |-- charges: double (nullable = true)\n",
            "\n"
          ]
        }
      ]
    },
    {
      "cell_type": "code",
      "metadata": {
        "id": "6b-J-Ybp_vNt",
        "outputId": "f3ef808d-65c6-45f7-817f-746f2f9931e6"
      },
      "source": [
        "# Handling Categorical features\n",
        "indexer = StringIndexer(inputCols=[\"sex\",\"smoker\",\"region\"],outputCols=[\"sex_indexed\",\"smoker_indexed\",\"region_indexed\"])\n",
        "df1=indexer.fit(df).transform(df)\n",
        "df1.show()"
      ],
      "execution_count": null,
      "outputs": [
        {
          "name": "stdout",
          "output_type": "stream",
          "text": [
            "+---+------+------+--------+------+---------+-----------+-----------+--------------+--------------+\n",
            "|age|   sex|   bmi|children|smoker|   region|    charges|sex_indexed|smoker_indexed|region_indexed|\n",
            "+---+------+------+--------+------+---------+-----------+-----------+--------------+--------------+\n",
            "| 19|female|  27.9|       0|   yes|southwest|  16884.924|        1.0|           1.0|           2.0|\n",
            "| 18|  male| 33.77|       1|    no|southeast|  1725.5523|        0.0|           0.0|           0.0|\n",
            "| 28|  male|  33.0|       3|    no|southeast|   4449.462|        0.0|           0.0|           0.0|\n",
            "| 33|  male|22.705|       0|    no|northwest|21984.47061|        0.0|           0.0|           1.0|\n",
            "| 32|  male| 28.88|       0|    no|northwest|  3866.8552|        0.0|           0.0|           1.0|\n",
            "| 31|female| 25.74|       0|    no|southeast|  3756.6216|        1.0|           0.0|           0.0|\n",
            "| 46|female| 33.44|       1|    no|southeast|  8240.5896|        1.0|           0.0|           0.0|\n",
            "| 37|female| 27.74|       3|    no|northwest|  7281.5056|        1.0|           0.0|           1.0|\n",
            "| 37|  male| 29.83|       2|    no|northeast|  6406.4107|        0.0|           0.0|           3.0|\n",
            "| 60|female| 25.84|       0|    no|northwest|28923.13692|        1.0|           0.0|           1.0|\n",
            "| 25|  male| 26.22|       0|    no|northeast|  2721.3208|        0.0|           0.0|           3.0|\n",
            "| 62|female| 26.29|       0|   yes|southeast| 27808.7251|        1.0|           1.0|           0.0|\n",
            "| 23|  male|  34.4|       0|    no|southwest|   1826.843|        0.0|           0.0|           2.0|\n",
            "| 56|female| 39.82|       0|    no|southeast| 11090.7178|        1.0|           0.0|           0.0|\n",
            "| 27|  male| 42.13|       0|   yes|southeast| 39611.7577|        0.0|           1.0|           0.0|\n",
            "| 19|  male|  24.6|       1|    no|southwest|   1837.237|        0.0|           0.0|           2.0|\n",
            "| 52|female| 30.78|       1|    no|northeast| 10797.3362|        1.0|           0.0|           3.0|\n",
            "| 23|  male|23.845|       0|    no|northeast| 2395.17155|        0.0|           0.0|           3.0|\n",
            "| 56|  male|  40.3|       0|    no|southwest|  10602.385|        0.0|           0.0|           2.0|\n",
            "| 30|  male|  35.3|       0|   yes|southwest|  36837.467|        0.0|           1.0|           2.0|\n",
            "+---+------+------+--------+------+---------+-----------+-----------+--------------+--------------+\n",
            "only showing top 20 rows\n",
            "\n"
          ]
        }
      ]
    },
    {
      "cell_type": "code",
      "metadata": {
        "id": "buma6879_vOE",
        "outputId": "38e9a534-fec7-42ed-9b15-4c2edf6c31ce"
      },
      "source": [
        "df1.columns"
      ],
      "execution_count": null,
      "outputs": [
        {
          "data": {
            "text/plain": [
              "['age',\n",
              " 'sex',\n",
              " 'bmi',\n",
              " 'children',\n",
              " 'smoker',\n",
              " 'region',\n",
              " 'charges',\n",
              " 'sex_indexed',\n",
              " 'smoker_indexed',\n",
              " 'region_indexed']"
            ]
          },
          "execution_count": 150,
          "metadata": {},
          "output_type": "execute_result"
        }
      ]
    },
    {
      "cell_type": "code",
      "metadata": {
        "id": "CRrMCnLD_vNu",
        "outputId": "40437260-6522-4322-889e-301e3a6ebd69"
      },
      "source": [
        "# Rows having charges above 50000\n",
        "df1.filter(\"charges>=50000\").show()"
      ],
      "execution_count": null,
      "outputs": [
        {
          "name": "stdout",
          "output_type": "stream",
          "text": [
            "+---+------+------+--------+------+---------+-----------+-----------+--------------+--------------+\n",
            "|age|   sex|   bmi|children|smoker|   region|    charges|sex_indexed|smoker_indexed|region_indexed|\n",
            "+---+------+------+--------+------+---------+-----------+-----------+--------------+--------------+\n",
            "| 28|  male|  36.4|       1|   yes|southwest|51194.55914|        0.0|           1.0|           2.0|\n",
            "| 54|female| 47.41|       0|   yes|southeast|63770.42801|        1.0|           1.0|           0.0|\n",
            "| 31|female|38.095|       1|   yes|northeast|58571.07448|        1.0|           1.0|           3.0|\n",
            "| 33|female| 35.53|       0|   yes|northwest|55135.40209|        1.0|           1.0|           1.0|\n",
            "| 60|  male|  32.8|       0|   yes|southwest|52590.82939|        0.0|           1.0|           2.0|\n",
            "| 52|  male|34.485|       3|   yes|northwest|60021.39897|        0.0|           1.0|           1.0|\n",
            "| 45|  male| 30.36|       0|   yes|southeast|62592.87309|        0.0|           1.0|           0.0|\n",
            "+---+------+------+--------+------+---------+-----------+-----------+--------------+--------------+\n",
            "\n"
          ]
        }
      ]
    },
    {
      "cell_type": "code",
      "metadata": {
        "id": "j79T_cEz_vNw",
        "outputId": "002cb0ec-aaf1-420b-c722-fb3dafe658f9"
      },
      "source": [
        "# Count of categories of sex column\n",
        "df1.groupBy(\"sex\").count().show()"
      ],
      "execution_count": null,
      "outputs": [
        {
          "name": "stdout",
          "output_type": "stream",
          "text": [
            "+------+-----+\n",
            "|   sex|count|\n",
            "+------+-----+\n",
            "|female|  662|\n",
            "|  male|  676|\n",
            "+------+-----+\n",
            "\n"
          ]
        }
      ]
    },
    {
      "cell_type": "code",
      "metadata": {
        "id": "PnwSrS3Q_vNz",
        "outputId": "dddbf07b-0405-4f6a-d56b-ffdf7d9d321a"
      },
      "source": [
        "# Grouping region, smoker and sex columns\n",
        "df1.groupBy(\"region\",\"smoker\",\"sex\").count().show()"
      ],
      "execution_count": null,
      "outputs": [
        {
          "name": "stdout",
          "output_type": "stream",
          "text": [
            "+---------+------+------+-----+\n",
            "|   region|smoker|   sex|count|\n",
            "+---------+------+------+-----+\n",
            "|northeast|    no|  male|  125|\n",
            "|northwest|   yes|female|   29|\n",
            "|southwest|   yes|female|   21|\n",
            "|southeast|    no|female|  139|\n",
            "|southeast|   yes|  male|   55|\n",
            "|northwest|   yes|  male|   29|\n",
            "|southwest|    no|  male|  126|\n",
            "|southeast|   yes|female|   36|\n",
            "|northwest|    no|  male|  132|\n",
            "|northwest|    no|female|  135|\n",
            "|southwest|   yes|  male|   37|\n",
            "|northeast|   yes|female|   29|\n",
            "|southwest|    no|female|  141|\n",
            "|northeast|   yes|  male|   38|\n",
            "|northeast|    no|female|  132|\n",
            "|southeast|    no|  male|  134|\n",
            "+---------+------+------+-----+\n",
            "\n"
          ]
        }
      ]
    },
    {
      "cell_type": "code",
      "metadata": {
        "id": "TPM8pUzu_vN0",
        "outputId": "a351a4af-7cef-4544-d0dd-d1e476914ef5"
      },
      "source": [
        "# Maximum charges\n",
        "df1.agg({\"charges\":\"max\"}).show()"
      ],
      "execution_count": null,
      "outputs": [
        {
          "name": "stdout",
          "output_type": "stream",
          "text": [
            "+------------+\n",
            "|max(charges)|\n",
            "+------------+\n",
            "| 63770.42801|\n",
            "+------------+\n",
            "\n"
          ]
        }
      ]
    },
    {
      "cell_type": "code",
      "metadata": {
        "id": "ObzpweTD_vN2"
      },
      "source": [
        "#Grouping region\n",
        "grouped = df1.groupBy(\"region\")"
      ],
      "execution_count": null,
      "outputs": []
    },
    {
      "cell_type": "code",
      "metadata": {
        "id": "eXHpcgVa_vN3",
        "outputId": "b47d3f53-da47-4ba9-a53f-f2dbb1f8f075"
      },
      "source": [
        "#Region wise maximum charges\n",
        "grouped.agg({\"charges\":\"max\"}).show()"
      ],
      "execution_count": null,
      "outputs": [
        {
          "name": "stdout",
          "output_type": "stream",
          "text": [
            "+---------+------------+\n",
            "|   region|max(charges)|\n",
            "+---------+------------+\n",
            "|northwest| 60021.39897|\n",
            "|southeast| 63770.42801|\n",
            "|northeast| 58571.07448|\n",
            "|southwest| 52590.82939|\n",
            "+---------+------------+\n",
            "\n"
          ]
        }
      ]
    },
    {
      "cell_type": "code",
      "metadata": {
        "id": "NASTK89v_vN5",
        "outputId": "29cb1e3b-a49d-45e7-edf2-0a3f9abce6d0"
      },
      "source": [
        "# Standard deviation of charges column\n",
        "charges_std = df1.select(stddev(\"charges\").alias(\"std\"))\n",
        "charges_std.show()"
      ],
      "execution_count": null,
      "outputs": [
        {
          "name": "stdout",
          "output_type": "stream",
          "text": [
            "+------------------+\n",
            "|               std|\n",
            "+------------------+\n",
            "|12110.011236693992|\n",
            "+------------------+\n",
            "\n"
          ]
        }
      ]
    },
    {
      "cell_type": "code",
      "metadata": {
        "id": "fgTUl3FD_vN7",
        "outputId": "c3048c2c-0a60-4520-fac0-7377ce618a44"
      },
      "source": [
        "# Formatting of number changed\n",
        "charges_std.select(format_number('std',2)).show()"
      ],
      "execution_count": null,
      "outputs": [
        {
          "name": "stdout",
          "output_type": "stream",
          "text": [
            "+---------------------+\n",
            "|format_number(std, 2)|\n",
            "+---------------------+\n",
            "|            12,110.01|\n",
            "+---------------------+\n",
            "\n"
          ]
        }
      ]
    },
    {
      "cell_type": "code",
      "metadata": {
        "id": "uzYakyGA_vN_",
        "outputId": "286f2dd0-e8c0-4534-f306-cbf848e8758f"
      },
      "source": [
        "# Charges column in descending order\n",
        "df1.orderBy(df[\"charges\"].desc()).show()"
      ],
      "execution_count": null,
      "outputs": [
        {
          "name": "stdout",
          "output_type": "stream",
          "text": [
            "+---+------+------+--------+------+---------+-----------+-----------+--------------+--------------+\n",
            "|age|   sex|   bmi|children|smoker|   region|    charges|sex_indexed|smoker_indexed|region_indexed|\n",
            "+---+------+------+--------+------+---------+-----------+-----------+--------------+--------------+\n",
            "| 54|female| 47.41|       0|   yes|southeast|63770.42801|        1.0|           1.0|           0.0|\n",
            "| 45|  male| 30.36|       0|   yes|southeast|62592.87309|        0.0|           1.0|           0.0|\n",
            "| 52|  male|34.485|       3|   yes|northwest|60021.39897|        0.0|           1.0|           1.0|\n",
            "| 31|female|38.095|       1|   yes|northeast|58571.07448|        1.0|           1.0|           3.0|\n",
            "| 33|female| 35.53|       0|   yes|northwest|55135.40209|        1.0|           1.0|           1.0|\n",
            "| 60|  male|  32.8|       0|   yes|southwest|52590.82939|        0.0|           1.0|           2.0|\n",
            "| 28|  male|  36.4|       1|   yes|southwest|51194.55914|        0.0|           1.0|           2.0|\n",
            "| 64|  male| 36.96|       2|   yes|southeast| 49577.6624|        0.0|           1.0|           0.0|\n",
            "| 59|  male| 41.14|       1|   yes|southeast| 48970.2476|        0.0|           1.0|           0.0|\n",
            "| 44|female| 38.06|       0|   yes|southeast|48885.13561|        1.0|           1.0|           0.0|\n",
            "| 63|female|  37.7|       0|   yes|southwest|   48824.45|        1.0|           1.0|           2.0|\n",
            "| 57|  male| 42.13|       1|   yes|southeast| 48675.5177|        0.0|           1.0|           0.0|\n",
            "| 60|  male| 40.92|       0|   yes|southeast| 48673.5588|        0.0|           1.0|           0.0|\n",
            "| 54|  male|40.565|       3|   yes|northeast|48549.17835|        0.0|           1.0|           3.0|\n",
            "| 61|female|36.385|       1|   yes|northeast|48517.56315|        1.0|           1.0|           3.0|\n",
            "| 60|  male|  39.9|       0|   yes|southwest|  48173.361|        0.0|           1.0|           2.0|\n",
            "| 64|female|  33.8|       1|   yes|southwest|   47928.03|        1.0|           1.0|           2.0|\n",
            "| 59|female|36.765|       1|   yes|northeast|47896.79135|        1.0|           1.0|           3.0|\n",
            "| 58|  male|36.955|       2|   yes|northwest|47496.49445|        0.0|           1.0|           1.0|\n",
            "| 51|  male|  42.9|       2|   yes|southeast|  47462.894|        0.0|           1.0|           0.0|\n",
            "+---+------+------+--------+------+---------+-----------+-----------+--------------+--------------+\n",
            "only showing top 20 rows\n",
            "\n"
          ]
        }
      ]
    },
    {
      "cell_type": "code",
      "metadata": {
        "id": "8ITEPSya_vOB"
      },
      "source": [
        "# Missing values\n",
        "from pyspark.sql.functions import isnan, when, count, col\n",
        "def get_null_value_count(data):\n",
        "    data.select([count(when(isnan(c) | col(c).isNull(),c)).alias(c) for c in data.columns]).show()"
      ],
      "execution_count": null,
      "outputs": []
    },
    {
      "cell_type": "code",
      "metadata": {
        "id": "zlS8508i_vOC",
        "outputId": "97264289-09fc-499a-cef5-e471d6d9053d"
      },
      "source": [
        "get_null_value_count(df1)"
      ],
      "execution_count": null,
      "outputs": [
        {
          "name": "stdout",
          "output_type": "stream",
          "text": [
            "+---+---+---+--------+------+------+-------+-----------+--------------+--------------+\n",
            "|age|sex|bmi|children|smoker|region|charges|sex_indexed|smoker_indexed|region_indexed|\n",
            "+---+---+---+--------+------+------+-------+-----------+--------------+--------------+\n",
            "|  0|  0|  0|       0|     0|     0|      0|          0|             0|             0|\n",
            "+---+---+---+--------+------+------+-------+-----------+--------------+--------------+\n",
            "\n"
          ]
        }
      ]
    },
    {
      "cell_type": "code",
      "metadata": {
        "id": "deT1pzq1_vOG"
      },
      "source": [
        "# Combining all independent features\n",
        "featuresassembler=VectorAssembler(inputCols=[\"age\",\"bmi\",\"children\",\"sex_indexed\",\"smoker_indexed\",\"region_indexed\"],outputCol=\"Independent Features\")"
      ],
      "execution_count": null,
      "outputs": []
    },
    {
      "cell_type": "code",
      "metadata": {
        "id": "btnCCxl-_vOI",
        "outputId": "f9b41eed-d096-42fd-becb-a1226c368128"
      },
      "source": [
        "output=featuresassembler.transform(df1)\n",
        "output.show()"
      ],
      "execution_count": null,
      "outputs": [
        {
          "name": "stdout",
          "output_type": "stream",
          "text": [
            "+---+------+------+--------+------+---------+-----------+-----------+--------------+--------------+--------------------+\n",
            "|age|   sex|   bmi|children|smoker|   region|    charges|sex_indexed|smoker_indexed|region_indexed|Independent Features|\n",
            "+---+------+------+--------+------+---------+-----------+-----------+--------------+--------------+--------------------+\n",
            "| 19|female|  27.9|       0|   yes|southwest|  16884.924|        1.0|           1.0|           2.0|[19.0,27.9,0.0,1....|\n",
            "| 18|  male| 33.77|       1|    no|southeast|  1725.5523|        0.0|           0.0|           0.0|[18.0,33.77,1.0,0...|\n",
            "| 28|  male|  33.0|       3|    no|southeast|   4449.462|        0.0|           0.0|           0.0|[28.0,33.0,3.0,0....|\n",
            "| 33|  male|22.705|       0|    no|northwest|21984.47061|        0.0|           0.0|           1.0|[33.0,22.705,0.0,...|\n",
            "| 32|  male| 28.88|       0|    no|northwest|  3866.8552|        0.0|           0.0|           1.0|[32.0,28.88,0.0,0...|\n",
            "| 31|female| 25.74|       0|    no|southeast|  3756.6216|        1.0|           0.0|           0.0|[31.0,25.74,0.0,1...|\n",
            "| 46|female| 33.44|       1|    no|southeast|  8240.5896|        1.0|           0.0|           0.0|[46.0,33.44,1.0,1...|\n",
            "| 37|female| 27.74|       3|    no|northwest|  7281.5056|        1.0|           0.0|           1.0|[37.0,27.74,3.0,1...|\n",
            "| 37|  male| 29.83|       2|    no|northeast|  6406.4107|        0.0|           0.0|           3.0|[37.0,29.83,2.0,0...|\n",
            "| 60|female| 25.84|       0|    no|northwest|28923.13692|        1.0|           0.0|           1.0|[60.0,25.84,0.0,1...|\n",
            "| 25|  male| 26.22|       0|    no|northeast|  2721.3208|        0.0|           0.0|           3.0|[25.0,26.22,0.0,0...|\n",
            "| 62|female| 26.29|       0|   yes|southeast| 27808.7251|        1.0|           1.0|           0.0|[62.0,26.29,0.0,1...|\n",
            "| 23|  male|  34.4|       0|    no|southwest|   1826.843|        0.0|           0.0|           2.0|[23.0,34.4,0.0,0....|\n",
            "| 56|female| 39.82|       0|    no|southeast| 11090.7178|        1.0|           0.0|           0.0|[56.0,39.82,0.0,1...|\n",
            "| 27|  male| 42.13|       0|   yes|southeast| 39611.7577|        0.0|           1.0|           0.0|[27.0,42.13,0.0,0...|\n",
            "| 19|  male|  24.6|       1|    no|southwest|   1837.237|        0.0|           0.0|           2.0|[19.0,24.6,1.0,0....|\n",
            "| 52|female| 30.78|       1|    no|northeast| 10797.3362|        1.0|           0.0|           3.0|[52.0,30.78,1.0,1...|\n",
            "| 23|  male|23.845|       0|    no|northeast| 2395.17155|        0.0|           0.0|           3.0|[23.0,23.845,0.0,...|\n",
            "| 56|  male|  40.3|       0|    no|southwest|  10602.385|        0.0|           0.0|           2.0|[56.0,40.3,0.0,0....|\n",
            "| 30|  male|  35.3|       0|   yes|southwest|  36837.467|        0.0|           1.0|           2.0|[30.0,35.3,0.0,0....|\n",
            "+---+------+------+--------+------+---------+-----------+-----------+--------------+--------------+--------------------+\n",
            "only showing top 20 rows\n",
            "\n"
          ]
        }
      ]
    },
    {
      "cell_type": "code",
      "metadata": {
        "id": "Dh1PM1a-_vOJ",
        "outputId": "1d62d5a9-9c8b-4b6e-a8e5-707881b20329"
      },
      "source": [
        "# Independent Features\n",
        "output.select('Independent Features').show()"
      ],
      "execution_count": null,
      "outputs": [
        {
          "name": "stdout",
          "output_type": "stream",
          "text": [
            "+--------------------+\n",
            "|Independent Features|\n",
            "+--------------------+\n",
            "|[19.0,27.9,0.0,1....|\n",
            "|[18.0,33.77,1.0,0...|\n",
            "|[28.0,33.0,3.0,0....|\n",
            "|[33.0,22.705,0.0,...|\n",
            "|[32.0,28.88,0.0,0...|\n",
            "|[31.0,25.74,0.0,1...|\n",
            "|[46.0,33.44,1.0,1...|\n",
            "|[37.0,27.74,3.0,1...|\n",
            "|[37.0,29.83,2.0,0...|\n",
            "|[60.0,25.84,0.0,1...|\n",
            "|[25.0,26.22,0.0,0...|\n",
            "|[62.0,26.29,0.0,1...|\n",
            "|[23.0,34.4,0.0,0....|\n",
            "|[56.0,39.82,0.0,1...|\n",
            "|[27.0,42.13,0.0,0...|\n",
            "|[19.0,24.6,1.0,0....|\n",
            "|[52.0,30.78,1.0,1...|\n",
            "|[23.0,23.845,0.0,...|\n",
            "|[56.0,40.3,0.0,0....|\n",
            "|[30.0,35.3,0.0,0....|\n",
            "+--------------------+\n",
            "only showing top 20 rows\n",
            "\n"
          ]
        }
      ]
    },
    {
      "cell_type": "code",
      "metadata": {
        "id": "BV3CUPp5_vOL",
        "outputId": "056a3f4f-9856-4843-f6e9-099c5ebaf78e"
      },
      "source": [
        "output.columns"
      ],
      "execution_count": null,
      "outputs": [
        {
          "data": {
            "text/plain": [
              "['age',\n",
              " 'sex',\n",
              " 'bmi',\n",
              " 'children',\n",
              " 'smoker',\n",
              " 'region',\n",
              " 'charges',\n",
              " 'sex_indexed',\n",
              " 'smoker_indexed',\n",
              " 'region_indexed',\n",
              " 'Independent Features']"
            ]
          },
          "execution_count": 155,
          "metadata": {},
          "output_type": "execute_result"
        }
      ]
    },
    {
      "cell_type": "code",
      "metadata": {
        "id": "1dPGM1Us_vOM"
      },
      "source": [
        "final_data=output.select(\"Independent Features\",\"Charges\")"
      ],
      "execution_count": null,
      "outputs": []
    },
    {
      "cell_type": "code",
      "metadata": {
        "id": "_xqLfEav_vON",
        "outputId": "ce02d172-cad3-45d8-93fb-63d624e9b252"
      },
      "source": [
        "final_data.show()"
      ],
      "execution_count": null,
      "outputs": [
        {
          "name": "stdout",
          "output_type": "stream",
          "text": [
            "+--------------------+-----------+\n",
            "|Independent Features|    Charges|\n",
            "+--------------------+-----------+\n",
            "|[19.0,27.9,0.0,1....|  16884.924|\n",
            "|[18.0,33.77,1.0,0...|  1725.5523|\n",
            "|[28.0,33.0,3.0,0....|   4449.462|\n",
            "|[33.0,22.705,0.0,...|21984.47061|\n",
            "|[32.0,28.88,0.0,0...|  3866.8552|\n",
            "|[31.0,25.74,0.0,1...|  3756.6216|\n",
            "|[46.0,33.44,1.0,1...|  8240.5896|\n",
            "|[37.0,27.74,3.0,1...|  7281.5056|\n",
            "|[37.0,29.83,2.0,0...|  6406.4107|\n",
            "|[60.0,25.84,0.0,1...|28923.13692|\n",
            "|[25.0,26.22,0.0,0...|  2721.3208|\n",
            "|[62.0,26.29,0.0,1...| 27808.7251|\n",
            "|[23.0,34.4,0.0,0....|   1826.843|\n",
            "|[56.0,39.82,0.0,1...| 11090.7178|\n",
            "|[27.0,42.13,0.0,0...| 39611.7577|\n",
            "|[19.0,24.6,1.0,0....|   1837.237|\n",
            "|[52.0,30.78,1.0,1...| 10797.3362|\n",
            "|[23.0,23.845,0.0,...| 2395.17155|\n",
            "|[56.0,40.3,0.0,0....|  10602.385|\n",
            "|[30.0,35.3,0.0,0....|  36837.467|\n",
            "+--------------------+-----------+\n",
            "only showing top 20 rows\n",
            "\n"
          ]
        }
      ]
    },
    {
      "cell_type": "markdown",
      "metadata": {
        "id": "7jAbSngK_vOR"
      },
      "source": [
        "# Modelling"
      ]
    },
    {
      "cell_type": "code",
      "metadata": {
        "id": "dPYtjKGX_vOO"
      },
      "source": [
        "# Splitting the data \n",
        "(train_df,test_df) =final_data.randomSplit([0.7,0.3])"
      ],
      "execution_count": null,
      "outputs": []
    },
    {
      "cell_type": "code",
      "metadata": {
        "id": "W1AANyAU_vOP",
        "outputId": "6c843e51-70fd-4e5d-a522-782f574a4406"
      },
      "source": [
        "train_df.count()"
      ],
      "execution_count": null,
      "outputs": [
        {
          "data": {
            "text/plain": [
              "911"
            ]
          },
          "execution_count": 159,
          "metadata": {},
          "output_type": "execute_result"
        }
      ]
    },
    {
      "cell_type": "code",
      "metadata": {
        "id": "vesOMKq4_vOQ",
        "outputId": "ee917e54-131c-4ae4-af9a-903cf1cdde69"
      },
      "source": [
        "test_df.count()"
      ],
      "execution_count": null,
      "outputs": [
        {
          "data": {
            "text/plain": [
              "427"
            ]
          },
          "execution_count": 160,
          "metadata": {},
          "output_type": "execute_result"
        }
      ]
    },
    {
      "cell_type": "markdown",
      "metadata": {
        "id": "mtKcglpx_vOU"
      },
      "source": [
        "## Linear Regression"
      ]
    },
    {
      "cell_type": "code",
      "metadata": {
        "id": "3Mwdi21-_vOW"
      },
      "source": [
        "regressor = LinearRegression(featuresCol='Independent Features',labelCol='Charges')\n",
        "regressor=regressor.fit(train_df)"
      ],
      "execution_count": null,
      "outputs": []
    },
    {
      "cell_type": "code",
      "metadata": {
        "id": "9_CSKmxO_vOX",
        "outputId": "3cf5cae1-edc3-43e8-9402-fc74f718315c"
      },
      "source": [
        "# Coefficients\n",
        "regressor.coefficients"
      ],
      "execution_count": null,
      "outputs": [
        {
          "data": {
            "text/plain": [
              "DenseVector([241.7805, 377.1683, 527.4263, 187.4761, 23647.491, 370.2141])"
            ]
          },
          "execution_count": 162,
          "metadata": {},
          "output_type": "execute_result"
        }
      ]
    },
    {
      "cell_type": "code",
      "metadata": {
        "id": "UQdO4x4u_vOY",
        "outputId": "7273b6dc-434f-44cf-a951-1b7c1685cc34"
      },
      "source": [
        "# Intercept\n",
        "regressor.intercept"
      ],
      "execution_count": null,
      "outputs": [
        {
          "data": {
            "text/plain": [
              "-13651.92905147139"
            ]
          },
          "execution_count": 163,
          "metadata": {},
          "output_type": "execute_result"
        }
      ]
    },
    {
      "cell_type": "code",
      "metadata": {
        "id": "MwUIQEbk_vOa"
      },
      "source": [
        "# Prediction\n",
        "pred = regressor.evaluate(test_df)"
      ],
      "execution_count": null,
      "outputs": []
    },
    {
      "cell_type": "code",
      "metadata": {
        "id": "NPbktiMl_vOc",
        "outputId": "6d03acf3-2119-4619-a6a8-4421d98a7fa7"
      },
      "source": [
        "# Results comparison\n",
        "pred.predictions.show()"
      ],
      "execution_count": null,
      "outputs": [
        {
          "name": "stdout",
          "output_type": "stream",
          "text": [
            "+--------------------+-----------+------------------+\n",
            "|Independent Features|    Charges|        prediction|\n",
            "+--------------------+-----------+------------------+\n",
            "|(6,[0,1],[18.0,33...|  1136.3994|3395.6027921129826|\n",
            "|(6,[0,1],[18.0,34...|   1137.011|  3561.55682219741|\n",
            "|(6,[0,1],[18.0,41...|  1146.7966| 6216.821303548226|\n",
            "|(6,[0,1],[18.0,53...|  1163.4627|10739.068623348834|\n",
            "|(6,[0,1],[20.0,33...|  1391.5287| 3754.698218674752|\n",
            "|(6,[0,1],[23.0,32...|  1824.2854| 4189.620089714641|\n",
            "|(6,[0,1],[23.0,41...|  1837.2819| 7716.143229008689|\n",
            "|(6,[0,1],[25.0,25...|  2137.6536|2100.8935725311258|\n",
            "|(6,[0,1],[26.0,35...|  2322.6218|  5993.66270895104|\n",
            "|(6,[0,1],[28.0,38...|  2689.4954| 7472.947838582684|\n",
            "|(6,[0,1],[29.0,27...|  2867.1196| 3897.785621203435|\n",
            "|(6,[0,1],[33.0,30...|  3704.3545| 5736.166177396844|\n",
            "|(6,[0,1],[36.0,29...|   4399.731| 6254.065063478945|\n",
            "|(6,[0,1],[40.0,25...|  5415.6612| 5478.669645842649|\n",
            "|(6,[0,1],[40.0,41...|  5438.7491|11743.434281529724|\n",
            "|(6,[0,1],[48.0,40...|  7804.1605| 13096.83897273459|\n",
            "|(6,[0,1],[50.0,25...|   8442.667| 7979.451406510303|\n",
            "|(6,[0,1],[52.0,34...|   9140.951|11782.092957323908|\n",
            "|(6,[0,1],[53.0,29...|  9487.6442| 10281.35611599998|\n",
            "|(6,[0,1],[53.0,31...|27346.04207|10986.660743858793|\n",
            "+--------------------+-----------+------------------+\n",
            "only showing top 20 rows\n",
            "\n"
          ]
        }
      ]
    },
    {
      "cell_type": "code",
      "metadata": {
        "id": "laCNg9GU_vOd",
        "outputId": "2710d56d-4c22-4db8-b521-c7c864f18f6d"
      },
      "source": [
        "# Performance Metrics\n",
        "pred.r2,pred.meanAbsoluteError,pred.meanSquaredError"
      ],
      "execution_count": null,
      "outputs": [
        {
          "data": {
            "text/plain": [
              "(0.7521245440901827, 4001.4111035589503, 32885261.587168045)"
            ]
          },
          "execution_count": 166,
          "metadata": {},
          "output_type": "execute_result"
        }
      ]
    }
  ]
}