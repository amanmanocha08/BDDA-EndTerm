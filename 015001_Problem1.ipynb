{
  "nbformat": 4,
  "nbformat_minor": 0,
  "metadata": {
    "kernelspec": {
      "display_name": "Python 3",
      "language": "python",
      "name": "python3"
    },
    "language_info": {
      "codemirror_mode": {
        "name": "ipython",
        "version": 3
      },
      "file_extension": ".py",
      "mimetype": "text/x-python",
      "name": "python",
      "nbconvert_exporter": "python",
      "pygments_lexer": "ipython3",
      "version": "3.7.3"
    },
    "colab": {
      "name": "Aman Manocha_Question1.ipynb",
      "provenance": []
    }
  },
  "cells": [
    {
      "cell_type": "markdown",
      "metadata": {
        "id": "Exom_M19Kfhg"
      },
      "source": [
        "#BDDA Project 1\n",
        "<BR>Problem 1: Text Classification\n",
        "\n",
        "Made By: Aman Manocha\n",
        "<BR>Roll No.: 015001"
      ]
    },
    {
      "cell_type": "code",
      "metadata": {
        "id": "TXV9bsm6KaAd"
      },
      "source": [
        "# Libraries imported\n",
        "from pyspark.sql import SparkSession\n",
        "import numpy as np\n",
        "import pandas as pd\n",
        "import matplotlib.pyplot as plt\n",
        "import seaborn as sns\n",
        "from pyspark.ml.classification import LogisticRegression, NaiveBayes, DecisionTreeClassifier, RandomForestClassifier\n",
        "from pyspark.ml import Pipeline\n",
        "from pyspark.sql.functions import length\n",
        "import pyspark.ml.feature\n",
        "from pyspark.ml.feature import Tokenizer,StopWordsRemover,CountVectorizer,IDF,StringIndexer,VectorAssembler"
      ],
      "execution_count": null,
      "outputs": []
    },
    {
      "cell_type": "code",
      "metadata": {
        "id": "fdeIl45iKaAg"
      },
      "source": [
        "spark = SparkSession.builder.appName('Question1').getOrCreate()"
      ],
      "execution_count": null,
      "outputs": []
    },
    {
      "cell_type": "code",
      "metadata": {
        "id": "KpEn4WORKaAh"
      },
      "source": [
        "df = spark.read.csv('Corona_NLP_train.csv', header=True, inferSchema=True, multiLine=True, sep=',')"
      ],
      "execution_count": null,
      "outputs": []
    },
    {
      "cell_type": "markdown",
      "metadata": {
        "id": "i16sAhzRKaAi"
      },
      "source": [
        "## Exploratory Data Analysis"
      ]
    },
    {
      "cell_type": "code",
      "metadata": {
        "id": "gmq6q43GKaAk",
        "outputId": "fd04180a-8a03-4a4b-93b3-8101d41a5b81"
      },
      "source": [
        "df.show()"
      ],
      "execution_count": null,
      "outputs": [
        {
          "name": "stdout",
          "output_type": "stream",
          "text": [
            "+--------------------+----------+--------------------+----------+--------------------+------------------+\n",
            "|            UserName|ScreenName|            Location|   TweetAt|       OriginalTweet|         Sentiment|\n",
            "+--------------------+----------+--------------------+----------+--------------------+------------------+\n",
            "|                3799|     48751|              London|16-03-2020|@MeNyrbie @Phil_G...|           Neutral|\n",
            "|                3800|     48752|                  UK|16-03-2020|advice Talk to yo...|          Positive|\n",
            "|                3801|     48753|           Vagabonds|16-03-2020|Coronavirus Austr...|          Positive|\n",
            "|                3802|     48754|                null|16-03-2020|My food stock is ...|          Positive|\n",
            "|                3803|     48755|                null|16-03-2020|Me, ready to go a...|Extremely Negative|\n",
            "|                3804|     48756|ÜT: 36.319708,-82...|16-03-2020|As news of the re...|          Positive|\n",
            "|                3805|     48757|35.926541,-78.753267|16-03-2020|\"Cashier at groce...|          Positive|\n",
            "|                3806|     48758|             Austria|16-03-2020|Was at the superm...|           Neutral|\n",
            "|                3807|     48759|     Atlanta, GA USA|16-03-2020|Due to COVID-19 o...|          Positive|\n",
            "|                3808|     48760|    BHAVNAGAR,GUJRAT|16-03-2020|For corona preven...|          Negative|\n",
            "|                3809|     48761|      Makati, Manila|16-03-2020|All month there h...|           Neutral|\n",
            "|                3810|     48762|Pitt Meadows, BC,...|16-03-2020|Due to the Covid-...|Extremely Positive|\n",
            "|                3811|     48763|          Horningsea|16-03-2020|#horningsea is a ...|Extremely Positive|\n",
            "|                3812|     48764|         Chicago, IL|16-03-2020|Me: I don't need ...|          Positive|\n",
            "|                3813|     48765|                null|16-03-2020|ADARA Releases CO...|          Positive|\n",
            "|                3814|     48766|      Houston, Texas|16-03-2020|Lines at the groc...|          Positive|\n",
            "|                3815|     48767|        Saudi Arabia|16-03-2020|????? ????? ?????...|           Neutral|\n",
            "|                3816|     48768|     Ontario, Canada|16-03-2020|\"@eyeonthearctic ...|              null|\n",
            "|https://t.co/4Wnr...|   Neutral|                null|      null|                null|              null|\n",
            "|                3817|     48769|       North America|16-03-2020|Amazon Glitch Sty...|Extremely Positive|\n",
            "+--------------------+----------+--------------------+----------+--------------------+------------------+\n",
            "only showing top 20 rows\n",
            "\n"
          ]
        }
      ]
    },
    {
      "cell_type": "code",
      "metadata": {
        "id": "xV9VLGvQKaAq"
      },
      "source": [
        "# Filtering sentiments out of data\n",
        "sentiments = ['Extremely Positive','Positive','Neutral','Negative','Extremely Negative']\n",
        "df = df.filter(df.Sentiment.isin(sentiments))"
      ],
      "execution_count": null,
      "outputs": []
    },
    {
      "cell_type": "code",
      "metadata": {
        "id": "C0w6jnmRKaAr",
        "outputId": "2d141d9b-e077-453f-c83f-6ebe309236ce"
      },
      "source": [
        "df.show()"
      ],
      "execution_count": null,
      "outputs": [
        {
          "name": "stdout",
          "output_type": "stream",
          "text": [
            "+--------+----------+--------------------+----------+--------------------+------------------+\n",
            "|UserName|ScreenName|            Location|   TweetAt|       OriginalTweet|         Sentiment|\n",
            "+--------+----------+--------------------+----------+--------------------+------------------+\n",
            "|    3799|     48751|              London|16-03-2020|@MeNyrbie @Phil_G...|           Neutral|\n",
            "|    3800|     48752|                  UK|16-03-2020|advice Talk to yo...|          Positive|\n",
            "|    3801|     48753|           Vagabonds|16-03-2020|Coronavirus Austr...|          Positive|\n",
            "|    3802|     48754|                null|16-03-2020|My food stock is ...|          Positive|\n",
            "|    3803|     48755|                null|16-03-2020|Me, ready to go a...|Extremely Negative|\n",
            "|    3804|     48756|ÜT: 36.319708,-82...|16-03-2020|As news of the re...|          Positive|\n",
            "|    3805|     48757|35.926541,-78.753267|16-03-2020|\"Cashier at groce...|          Positive|\n",
            "|    3806|     48758|             Austria|16-03-2020|Was at the superm...|           Neutral|\n",
            "|    3807|     48759|     Atlanta, GA USA|16-03-2020|Due to COVID-19 o...|          Positive|\n",
            "|    3808|     48760|    BHAVNAGAR,GUJRAT|16-03-2020|For corona preven...|          Negative|\n",
            "|    3809|     48761|      Makati, Manila|16-03-2020|All month there h...|           Neutral|\n",
            "|    3810|     48762|Pitt Meadows, BC,...|16-03-2020|Due to the Covid-...|Extremely Positive|\n",
            "|    3811|     48763|          Horningsea|16-03-2020|#horningsea is a ...|Extremely Positive|\n",
            "|    3812|     48764|         Chicago, IL|16-03-2020|Me: I don't need ...|          Positive|\n",
            "|    3813|     48765|                null|16-03-2020|ADARA Releases CO...|          Positive|\n",
            "|    3814|     48766|      Houston, Texas|16-03-2020|Lines at the groc...|          Positive|\n",
            "|    3815|     48767|        Saudi Arabia|16-03-2020|????? ????? ?????...|           Neutral|\n",
            "|    3817|     48769|       North America|16-03-2020|Amazon Glitch Sty...|Extremely Positive|\n",
            "|    3818|     48770|          Denver, CO|16-03-2020|For those who are...|          Positive|\n",
            "|    3819|     48771|southampton soxx xxx|16-03-2020|with 100  nations...|Extremely Negative|\n",
            "+--------+----------+--------------------+----------+--------------------+------------------+\n",
            "only showing top 20 rows\n",
            "\n"
          ]
        }
      ]
    },
    {
      "cell_type": "code",
      "metadata": {
        "id": "EGXieoTyKaAs",
        "outputId": "c7a3222b-d553-4476-e10d-0b83597baede"
      },
      "source": [
        "# Schema of all columns \n",
        "df.printSchema()"
      ],
      "execution_count": null,
      "outputs": [
        {
          "name": "stdout",
          "output_type": "stream",
          "text": [
            "root\n",
            " |-- UserName: string (nullable = true)\n",
            " |-- ScreenName: string (nullable = true)\n",
            " |-- Location: string (nullable = true)\n",
            " |-- TweetAt: string (nullable = true)\n",
            " |-- OriginalTweet: string (nullable = true)\n",
            " |-- Sentiment: string (nullable = true)\n",
            "\n"
          ]
        }
      ]
    },
    {
      "cell_type": "code",
      "metadata": {
        "id": "RVkzJVTUKaAu",
        "outputId": "988c5573-0955-468f-baf3-c6c7199018c4"
      },
      "source": [
        "# Count of columns\n",
        "len(df.columns)"
      ],
      "execution_count": null,
      "outputs": [
        {
          "data": {
            "text/plain": [
              "6"
            ]
          },
          "execution_count": 8,
          "metadata": {},
          "output_type": "execute_result"
        }
      ]
    },
    {
      "cell_type": "code",
      "metadata": {
        "id": "By7w6xYqKaAv",
        "outputId": "fdb81678-144b-4af2-88a6-2fd7b7f5449a"
      },
      "source": [
        "# Count of rows \n",
        "df.count()"
      ],
      "execution_count": null,
      "outputs": [
        {
          "data": {
            "text/plain": [
              "40026"
            ]
          },
          "execution_count": 9,
          "metadata": {},
          "output_type": "execute_result"
        }
      ]
    },
    {
      "cell_type": "code",
      "metadata": {
        "id": "Y5_4poV7KaAw",
        "outputId": "b3bb7f45-4ca4-4e06-9fe8-2c017df09b26"
      },
      "source": [
        "# Null values\n",
        "from pyspark.sql.functions import col, isnan, when, count\n",
        "df.select([count(when(isnan(c) | col(c).isNull(), c)).alias(c) for c in df.columns]).show()"
      ],
      "execution_count": null,
      "outputs": [
        {
          "name": "stdout",
          "output_type": "stream",
          "text": [
            "+--------+----------+--------+-------+-------------+---------+\n",
            "|UserName|ScreenName|Location|TweetAt|OriginalTweet|Sentiment|\n",
            "+--------+----------+--------+-------+-------------+---------+\n",
            "|       0|         0|    8387|      0|            0|        0|\n",
            "+--------+----------+--------+-------+-------------+---------+\n",
            "\n"
          ]
        }
      ]
    },
    {
      "cell_type": "code",
      "metadata": {
        "id": "VjcSH7FHKaAx",
        "outputId": "76aea96c-c90e-43e0-9d05-8d3a9298c472"
      },
      "source": [
        "# Grouping by 'Sentiment' \n",
        "df.select('Sentiment').distinct().show()\n",
        "df.groupby('Sentiment').count().show()\n",
        "dx = df.toPandas()\n",
        "sns.catplot(x='Sentiment', kind='count', data=dx)"
      ],
      "execution_count": null,
      "outputs": [
        {
          "name": "stdout",
          "output_type": "stream",
          "text": [
            "+------------------+\n",
            "|         Sentiment|\n",
            "+------------------+\n",
            "|Extremely Negative|\n",
            "|           Neutral|\n",
            "|          Positive|\n",
            "|          Negative|\n",
            "|Extremely Positive|\n",
            "+------------------+\n",
            "\n",
            "+------------------+-----+\n",
            "|         Sentiment|count|\n",
            "+------------------+-----+\n",
            "|Extremely Negative| 5311|\n",
            "|           Neutral| 7557|\n",
            "|          Positive|11129|\n",
            "|          Negative| 9602|\n",
            "|Extremely Positive| 6427|\n",
            "+------------------+-----+\n",
            "\n"
          ]
        },
        {
          "data": {
            "text/plain": [
              "<seaborn.axisgrid.FacetGrid at 0x7f9adb116f98>"
            ]
          },
          "execution_count": 11,
          "metadata": {},
          "output_type": "execute_result"
        },
        {
          "data": {
            "image/png": "[encoded data removed]",
            "text/plain": [
              "<Figure size 360x360 with 1 Axes>"
            ]
          },
          "metadata": {
            "needs_background": "light"
          },
          "output_type": "display_data"
        }
      ]
    },
    {
      "cell_type": "markdown",
      "metadata": {
        "id": "9ljsN6EtKaAz"
      },
      "source": [
        "## Data Preprocessing "
      ]
    },
    {
      "cell_type": "code",
      "metadata": {
        "id": "qaY278-IKaA0"
      },
      "source": [
        "# Selecting Original Tweet and Sentiment\n",
        "df = df.select('OriginalTweet','Sentiment')"
      ],
      "execution_count": null,
      "outputs": []
    },
    {
      "cell_type": "code",
      "metadata": {
        "id": "P0EsK9fYKaA1"
      },
      "source": [
        "df = df.withColumn('Length',length(df['OriginalTweet']))"
      ],
      "execution_count": null,
      "outputs": []
    },
    {
      "cell_type": "code",
      "metadata": {
        "id": "EXcEsDcKKaA2",
        "outputId": "c7a030f2-45e9-4e36-9989-6654763a5dc0"
      },
      "source": [
        "df.show(5)"
      ],
      "execution_count": null,
      "outputs": [
        {
          "name": "stdout",
          "output_type": "stream",
          "text": [
            "+--------------------+------------------+------+\n",
            "|       OriginalTweet|         Sentiment|Length|\n",
            "+--------------------+------------------+------+\n",
            "|@MeNyrbie @Phil_G...|           Neutral|   111|\n",
            "|advice Talk to yo...|          Positive|   237|\n",
            "|Coronavirus Austr...|          Positive|   131|\n",
            "|My food stock is ...|          Positive|   301|\n",
            "|Me, ready to go a...|Extremely Negative|   306|\n",
            "+--------------------+------------------+------+\n",
            "only showing top 5 rows\n",
            "\n"
          ]
        }
      ]
    },
    {
      "cell_type": "code",
      "metadata": {
        "id": "FEJULhCUKaA3",
        "outputId": "ad50e4fe-7a71-4828-a9b4-c667a1ca3d23"
      },
      "source": [
        "# Mean of the length grouped by sentiments\n",
        "df.groupby('Sentiment').mean().show()"
      ],
      "execution_count": null,
      "outputs": [
        {
          "name": "stdout",
          "output_type": "stream",
          "text": [
            "+------------------+------------------+\n",
            "|         Sentiment|       avg(Length)|\n",
            "+------------------+------------------+\n",
            "|Extremely Negative|219.29128224439842|\n",
            "|           Neutral|165.81328569538178|\n",
            "|          Positive| 204.8383502560877|\n",
            "|          Negative| 200.7849406373672|\n",
            "|Extremely Positive| 226.0751517037498|\n",
            "+------------------+------------------+\n",
            "\n"
          ]
        }
      ]
    },
    {
      "cell_type": "markdown",
      "metadata": {
        "id": "hajE_F8CNQ5E"
      },
      "source": [
        "##Feature Engineering"
      ]
    },
    {
      "cell_type": "code",
      "metadata": {
        "id": "e_SHM676KaA4"
      },
      "source": [
        "labelEncoder = StringIndexer(inputCol='Sentiment', outputCol='label')\n",
        "tokenizer = Tokenizer(inputCol='OriginalTweet' , outputCol = 'token_text')\n",
        "stopwords_remover = StopWordsRemover(inputCol='token_text' , outputCol='stop_tokens')\n",
        "vectorizer = CountVectorizer(inputCol='stop_tokens' , outputCol='c_vec')\n",
        "idf = IDF(inputCol='c_vec' , outputCol='tf_idf')\n",
        "vas_features = VectorAssembler(inputCols=['tf_idf','Length'] , outputCol='features')"
      ],
      "execution_count": null,
      "outputs": []
    },
    {
      "cell_type": "code",
      "metadata": {
        "id": "qqoqi9LtKaA5",
        "outputId": "bf93e38d-d0d3-4c6a-93b3-d1f28cc2a878"
      },
      "source": [
        "# Sentiments as labels\n",
        "df1 = df\n",
        "labelEncoder = StringIndexer(inputCol='Sentiment', outputCol='label').fit(df1)\n",
        "labelEncoder.transform(df1).show(5)"
      ],
      "execution_count": null,
      "outputs": [
        {
          "name": "stdout",
          "output_type": "stream",
          "text": [
            "+--------------------+------------------+------+-----+\n",
            "|       OriginalTweet|         Sentiment|Length|label|\n",
            "+--------------------+------------------+------+-----+\n",
            "|@MeNyrbie @Phil_G...|           Neutral|   111|  2.0|\n",
            "|advice Talk to yo...|          Positive|   237|  0.0|\n",
            "|Coronavirus Austr...|          Positive|   131|  0.0|\n",
            "|My food stock is ...|          Positive|   301|  0.0|\n",
            "|Me, ready to go a...|Extremely Negative|   306|  4.0|\n",
            "+--------------------+------------------+------+-----+\n",
            "only showing top 5 rows\n",
            "\n"
          ]
        }
      ]
    },
    {
      "cell_type": "markdown",
      "metadata": {
        "id": "QmYCEju1N135"
      },
      "source": [
        "##Modelling"
      ]
    },
    {
      "cell_type": "code",
      "metadata": {
        "id": "sjWgIXTHKaA6"
      },
      "source": [
        "lr = LogisticRegression(featuresCol='features',labelCol='label')\n",
        "nb = NaiveBayes(smoothing=1.0 , modelType='multinomial')\n",
        "dt = DecisionTreeClassifier(featuresCol='features',labelCol='label')\n",
        "rf = RandomForestClassifier(featuresCol='features',labelCol='label')"
      ],
      "execution_count": null,
      "outputs": []
    },
    {
      "cell_type": "code",
      "metadata": {
        "id": "rFNEhRM-KaA6"
      },
      "source": [
        "# Data Pipelining\n",
        "pipeline = Pipeline(stages=[labelEncoder,tokenizer,stopwords_remover,vectorizer,idf,vas_features])"
      ],
      "execution_count": null,
      "outputs": []
    },
    {
      "cell_type": "code",
      "metadata": {
        "id": "phGvvY5mKaA7"
      },
      "source": [
        "pipe = pipeline.fit(df)"
      ],
      "execution_count": null,
      "outputs": []
    },
    {
      "cell_type": "code",
      "metadata": {
        "id": "n55WS4cDKaA8"
      },
      "source": [
        "pipe = pipe.transform(df)"
      ],
      "execution_count": null,
      "outputs": []
    },
    {
      "cell_type": "code",
      "metadata": {
        "id": "KjpWUffzKaA8"
      },
      "source": [
        "p_model = pipe.select(['label','features'])"
      ],
      "execution_count": null,
      "outputs": []
    },
    {
      "cell_type": "code",
      "metadata": {
        "id": "lL7uJYTHKaA9",
        "outputId": "a0f3ef09-bc02-4527-af5b-db720d468596"
      },
      "source": [
        "p_model.show(5)"
      ],
      "execution_count": null,
      "outputs": [
        {
          "name": "stdout",
          "output_type": "stream",
          "text": [
            "+-----+--------------------+\n",
            "|label|            features|\n",
            "+-----+--------------------+\n",
            "|  2.0|(116272,[19514,47...|\n",
            "|  0.0|(116272,[13,16,13...|\n",
            "|  0.0|(116272,[7,16,35,...|\n",
            "|  0.0|(116272,[0,1,4,9,...|\n",
            "|  4.0|(116272,[0,1,4,5,...|\n",
            "+-----+--------------------+\n",
            "only showing top 5 rows\n",
            "\n"
          ]
        }
      ]
    },
    {
      "cell_type": "code",
      "metadata": {
        "id": "dLs2zSbpKaA-",
        "outputId": "1ef62d48-c3ac-411b-a534-8216c3c0c7eb"
      },
      "source": [
        "#Splitting of the data \n",
        "train_data,test_data = p_model.randomSplit((0.7,0.3), seed=1234)\n",
        "train_data.show(5)\n",
        "test_data.show(5)"
      ],
      "execution_count": null,
      "outputs": [
        {
          "name": "stdout",
          "output_type": "stream",
          "text": [
            "+-----+--------------------+\n",
            "|label|            features|\n",
            "+-----+--------------------+\n",
            "|  0.0|(116272,[0,1,2,4,...|\n",
            "|  0.0|(116272,[0,1,2,4,...|\n",
            "|  0.0|(116272,[0,1,2,4,...|\n",
            "|  0.0|(116272,[0,1,2,4,...|\n",
            "|  0.0|(116272,[0,1,2,4,...|\n",
            "+-----+--------------------+\n",
            "only showing top 5 rows\n",
            "\n",
            "+-----+--------------------+\n",
            "|label|            features|\n",
            "+-----+--------------------+\n",
            "|  0.0|(116272,[0,1,2,3,...|\n",
            "|  0.0|(116272,[0,1,2,3,...|\n",
            "|  0.0|(116272,[0,1,2,4,...|\n",
            "|  0.0|(116272,[0,1,2,8,...|\n",
            "|  0.0|(116272,[0,1,2,8,...|\n",
            "+-----+--------------------+\n",
            "only showing top 5 rows\n",
            "\n"
          ]
        }
      ]
    },
    {
      "cell_type": "markdown",
      "metadata": {
        "id": "VwN0fs7IKaBC"
      },
      "source": [
        "## Naive Bayes Classifier Model"
      ]
    },
    {
      "cell_type": "code",
      "metadata": {
        "id": "wJZ28dDfKaBD"
      },
      "source": [
        "prediction_nb = nb.fit(train_data)"
      ],
      "execution_count": null,
      "outputs": []
    },
    {
      "cell_type": "code",
      "metadata": {
        "id": "oxg38oeZKaBE",
        "outputId": "130419bc-62dd-4507-f8f1-051d51f5f337"
      },
      "source": [
        "prediction_nbt = prediction_nb.transform(test_data)\n",
        "prediction_nb_df = prediction_nbt.select('features','label','prediction')\n",
        "prediction_nb_df.show()"
      ],
      "execution_count": null,
      "outputs": [
        {
          "name": "stdout",
          "output_type": "stream",
          "text": [
            "+--------------------+-----+----------+\n",
            "|            features|label|prediction|\n",
            "+--------------------+-----+----------+\n",
            "|(116272,[0,1,2,3,...|  0.0|       1.0|\n",
            "|(116272,[0,1,2,3,...|  0.0|       2.0|\n",
            "|(116272,[0,1,2,4,...|  0.0|       0.0|\n",
            "|(116272,[0,1,2,8,...|  0.0|       1.0|\n",
            "|(116272,[0,1,2,8,...|  0.0|       1.0|\n",
            "|(116272,[0,1,2,8,...|  0.0|       1.0|\n",
            "|(116272,[0,1,2,8,...|  0.0|       1.0|\n",
            "|(116272,[0,1,2,8,...|  0.0|       1.0|\n",
            "|(116272,[0,1,2,8,...|  0.0|       1.0|\n",
            "|(116272,[0,1,2,8,...|  0.0|       0.0|\n",
            "|(116272,[0,1,2,8,...|  0.0|       3.0|\n",
            "|(116272,[0,1,2,8,...|  0.0|       1.0|\n",
            "|(116272,[0,1,2,9,...|  0.0|       3.0|\n",
            "|(116272,[0,1,2,9,...|  0.0|       1.0|\n",
            "|(116272,[0,1,2,9,...|  0.0|       0.0|\n",
            "|(116272,[0,1,2,9,...|  0.0|       2.0|\n",
            "|(116272,[0,1,2,9,...|  0.0|       1.0|\n",
            "|(116272,[0,1,2,9,...|  0.0|       2.0|\n",
            "|(116272,[0,1,2,9,...|  0.0|       4.0|\n",
            "|(116272,[0,1,2,9,...|  0.0|       1.0|\n",
            "+--------------------+-----+----------+\n",
            "only showing top 20 rows\n",
            "\n"
          ]
        }
      ]
    },
    {
      "cell_type": "code",
      "metadata": {
        "id": "VuE4QbpXKaBE",
        "outputId": "c8802322-a4d6-44b6-b4a3-93891632f116"
      },
      "source": [
        "acc_eval = MulticlassClassificationEvaluator()\n",
        "acc_nb = acc_eval.evaluate(prediction_nb_df)\n",
        "print(\"Accuracy of the model: \", acc_nb)"
      ],
      "execution_count": null,
      "outputs": [
        {
          "name": "stdout",
          "output_type": "stream",
          "text": [
            "Accuracy of the model:  0.40796539150719197\n"
          ]
        }
      ]
    },
    {
      "cell_type": "markdown",
      "metadata": {
        "id": "68iOAwt-KaBF"
      },
      "source": [
        "## Decision Tree Classifier Model"
      ]
    },
    {
      "cell_type": "code",
      "metadata": {
        "id": "-fb2fLnPKaBG"
      },
      "source": [
        "prediction_dt = dt.fit(train_data.sample(0.1))"
      ],
      "execution_count": null,
      "outputs": []
    },
    {
      "cell_type": "code",
      "metadata": {
        "id": "MRKVxVl6KaBG",
        "outputId": "9f9aac3c-4476-4a59-ebe6-6cbde25add9c"
      },
      "source": [
        "prediction_dtt = prediction_dt.transform(test_data.sample(0.1))\n",
        "prediction_dt_df = prediction_dtt.select('features','label','prediction')\n",
        "prediction_dt_df.show()"
      ],
      "execution_count": null,
      "outputs": [
        {
          "name": "stdout",
          "output_type": "stream",
          "text": [
            "+--------------------+-----+----------+\n",
            "|            features|label|prediction|\n",
            "+--------------------+-----+----------+\n",
            "|(116272,[0,1,2,4,...|  0.0|       0.0|\n",
            "|(116272,[0,1,2,9,...|  0.0|       0.0|\n",
            "|(116272,[0,1,2,11...|  0.0|       2.0|\n",
            "|(116272,[0,1,2,20...|  0.0|       0.0|\n",
            "|(116272,[0,1,2,27...|  0.0|       0.0|\n",
            "|(116272,[0,1,2,91...|  0.0|       0.0|\n",
            "|(116272,[0,1,3,6,...|  0.0|       0.0|\n",
            "|(116272,[0,1,3,6,...|  0.0|       2.0|\n",
            "|(116272,[0,1,3,6,...|  0.0|       0.0|\n",
            "|(116272,[0,1,3,6,...|  0.0|       0.0|\n",
            "|(116272,[0,1,3,6,...|  0.0|       2.0|\n",
            "|(116272,[0,1,3,9,...|  0.0|       0.0|\n",
            "|(116272,[0,1,3,25...|  0.0|       0.0|\n",
            "|(116272,[0,1,3,40...|  0.0|       0.0|\n",
            "|(116272,[0,1,4,49...|  0.0|       0.0|\n",
            "|(116272,[0,1,5,7,...|  0.0|       0.0|\n",
            "|(116272,[0,1,5,9,...|  0.0|       0.0|\n",
            "|(116272,[0,1,5,14...|  0.0|       0.0|\n",
            "|(116272,[0,1,5,33...|  0.0|       2.0|\n",
            "|(116272,[0,1,6,7,...|  0.0|       2.0|\n",
            "+--------------------+-----+----------+\n",
            "only showing top 20 rows\n",
            "\n"
          ]
        }
      ]
    },
    {
      "cell_type": "code",
      "metadata": {
        "id": "rMQuTau-KaBH",
        "outputId": "e11fe433-eb59-4636-ea1a-9c6abd155dbf"
      },
      "source": [
        "acc_eval = MulticlassClassificationEvaluator()\n",
        "acc_dt = acc_eval.evaluate(prediction_dt_df)\n",
        "print(\"Accuracy of the model: \", acc_dt)"
      ],
      "execution_count": null,
      "outputs": [
        {
          "name": "stdout",
          "output_type": "stream",
          "text": [
            "Accuracy of the model:  0.2777341902940897\n"
          ]
        }
      ]
    },
    {
      "cell_type": "markdown",
      "metadata": {
        "id": "EcVvLoEuKaBJ"
      },
      "source": [
        "Naive Bayes Classifier Model has higher accuracy than decision tree"
      ]
    }
  ]
}